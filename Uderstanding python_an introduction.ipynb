{
 "cells": [
  {
   "cell_type": "code",
   "execution_count": 1,
   "id": "2e29d031",
   "metadata": {},
   "outputs": [],
   "source": [
    "#Arithmetic operators\n"
   ]
  },
  {
   "cell_type": "code",
   "execution_count": 2,
   "id": "e5f1213c",
   "metadata": {},
   "outputs": [
    {
     "data": {
      "text/plain": [
       "8"
      ]
     },
     "execution_count": 2,
     "metadata": {},
     "output_type": "execute_result"
    }
   ],
   "source": [
    "5+3"
   ]
  },
  {
   "cell_type": "code",
   "execution_count": 3,
   "id": "f664e2f5",
   "metadata": {},
   "outputs": [
    {
     "data": {
      "text/plain": [
       "1"
      ]
     },
     "execution_count": 3,
     "metadata": {},
     "output_type": "execute_result"
    }
   ],
   "source": [
    "10%3"
   ]
  },
  {
   "cell_type": "code",
   "execution_count": 4,
   "id": "8359d6b0",
   "metadata": {},
   "outputs": [
    {
     "data": {
      "text/plain": [
       "3"
      ]
     },
     "execution_count": 4,
     "metadata": {},
     "output_type": "execute_result"
    }
   ],
   "source": [
    "10//3"
   ]
  },
  {
   "cell_type": "code",
   "execution_count": 5,
   "id": "0d14808c",
   "metadata": {},
   "outputs": [
    {
     "data": {
      "text/plain": [
       "31.360000000000007"
      ]
     },
     "execution_count": 5,
     "metadata": {},
     "output_type": "execute_result"
    }
   ],
   "source": [
    "4*(2/5*7)**2"
   ]
  },
  {
   "cell_type": "code",
   "execution_count": 6,
   "id": "dec4d11b",
   "metadata": {},
   "outputs": [
    {
     "data": {
      "text/plain": [
       "27.380000000000003"
      ]
     },
     "execution_count": 6,
     "metadata": {},
     "output_type": "execute_result"
    }
   ],
   "source": [
    "2*((21/5)-(2/4))**2"
   ]
  },
  {
   "cell_type": "code",
   "execution_count": 3,
   "id": "9f491fc7",
   "metadata": {
    "scrolled": true
   },
   "outputs": [
    {
     "name": "stdout",
     "output_type": "stream",
     "text": [
      "1921600.333333334\n"
     ]
    }
   ],
   "source": [
    "a=(7-4)*((343**2/3)/49**-1/3)\n",
    "print(a)"
   ]
  },
  {
   "cell_type": "code",
   "execution_count": 4,
   "id": "0ab24801",
   "metadata": {},
   "outputs": [
    {
     "data": {
      "text/plain": [
       "float"
      ]
     },
     "execution_count": 4,
     "metadata": {},
     "output_type": "execute_result"
    }
   ],
   "source": [
    "type(a)"
   ]
  },
  {
   "cell_type": "code",
   "execution_count": 8,
   "id": "bb2ea988",
   "metadata": {},
   "outputs": [],
   "source": [
    "#assignment operators"
   ]
  },
  {
   "cell_type": "code",
   "execution_count": 9,
   "id": "e20eecf2",
   "metadata": {},
   "outputs": [],
   "source": [
    "a =8\n",
    "b = 6\n",
    "c = a+b\n",
    "d = a+b+c"
   ]
  },
  {
   "cell_type": "code",
   "execution_count": 10,
   "id": "3455ce3e",
   "metadata": {},
   "outputs": [
    {
     "name": "stdout",
     "output_type": "stream",
     "text": [
      "14\n"
     ]
    }
   ],
   "source": [
    "print(c)"
   ]
  },
  {
   "cell_type": "code",
   "execution_count": 11,
   "id": "458e9854",
   "metadata": {},
   "outputs": [
    {
     "data": {
      "text/plain": [
       "48"
      ]
     },
     "execution_count": 11,
     "metadata": {},
     "output_type": "execute_result"
    }
   ],
   "source": [
    "b*a"
   ]
  },
  {
   "cell_type": "code",
   "execution_count": 12,
   "id": "28e44a2d",
   "metadata": {},
   "outputs": [
    {
     "name": "stdout",
     "output_type": "stream",
     "text": [
      "28\n"
     ]
    }
   ],
   "source": [
    "print(d)"
   ]
  },
  {
   "cell_type": "code",
   "execution_count": 13,
   "id": "e0a59825",
   "metadata": {},
   "outputs": [],
   "source": [
    "#concantination"
   ]
  },
  {
   "cell_type": "code",
   "execution_count": 6,
   "id": "207890ac",
   "metadata": {},
   "outputs": [
    {
     "name": "stdout",
     "output_type": "stream",
     "text": [
      "pat favor\n"
     ]
    }
   ],
   "source": [
    "a= 'pat'\n",
    "b= ' '\n",
    "c= 'favor'\n",
    "d = a+b+c\n",
    "print(d)"
   ]
  },
  {
   "cell_type": "code",
   "execution_count": 15,
   "id": "b31b871b",
   "metadata": {},
   "outputs": [],
   "source": [
    "a=\"this is my book\"\n",
    "b =\",\"\n",
    "c =\"i bought it yesterday\"\n",
    "d= a+b+c"
   ]
  },
  {
   "cell_type": "code",
   "execution_count": 16,
   "id": "96a83489",
   "metadata": {},
   "outputs": [
    {
     "name": "stdout",
     "output_type": "stream",
     "text": [
      "this is my book,i bought it yesterday\n"
     ]
    }
   ],
   "source": [
    "print(d)"
   ]
  },
  {
   "cell_type": "code",
   "execution_count": 17,
   "id": "324a45b3",
   "metadata": {},
   "outputs": [],
   "source": [
    "a=\"this the girl \""
   ]
  },
  {
   "cell_type": "code",
   "execution_count": 18,
   "id": "f4386ad8",
   "metadata": {},
   "outputs": [],
   "source": [
    "b=\",\"\n",
    "c=\"that gave me the bag\"\n",
    "d=a+b+c\n"
   ]
  },
  {
   "cell_type": "code",
   "execution_count": 19,
   "id": "39df8c5f",
   "metadata": {},
   "outputs": [
    {
     "name": "stdout",
     "output_type": "stream",
     "text": [
      "this the girl ,that gave me the bag\n"
     ]
    }
   ],
   "source": [
    "print(d)"
   ]
  },
  {
   "cell_type": "code",
   "execution_count": 20,
   "id": "9e5b98a9",
   "metadata": {},
   "outputs": [],
   "source": [
    "#if and elif"
   ]
  },
  {
   "cell_type": "code",
   "execution_count": 21,
   "id": "5aabb9b0",
   "metadata": {},
   "outputs": [
    {
     "name": "stdout",
     "output_type": "stream",
     "text": [
      "x is less than y\n"
     ]
    }
   ],
   "source": [
    "x=10\n",
    "y=15\n",
    "if x==y:\n",
    "    print(\"x is equal to y\")\n",
    "elif x<y:\n",
    "    print(\"x is less than y\")\n",
    "else:\n",
    "    print(\"x is greater than y\")"
   ]
  },
  {
   "cell_type": "code",
   "execution_count": 22,
   "id": "71d14d84",
   "metadata": {},
   "outputs": [
    {
     "name": "stdout",
     "output_type": "stream",
     "text": [
      "wrong password\n"
     ]
    }
   ],
   "source": [
    "username = \"sam\"\n",
    "password = 123\n",
    "if username==\"sam\" and password==1234:\n",
    "    print(\"welcome\")\n",
    "else:\n",
    "    print(\"wrong password\")"
   ]
  },
  {
   "cell_type": "code",
   "execution_count": 23,
   "id": "bb725ac3",
   "metadata": {},
   "outputs": [
    {
     "data": {
      "text/plain": [
       "int"
      ]
     },
     "execution_count": 23,
     "metadata": {},
     "output_type": "execute_result"
    }
   ],
   "source": [
    "type (password)"
   ]
  },
  {
   "cell_type": "code",
   "execution_count": 24,
   "id": "c6dfa997",
   "metadata": {},
   "outputs": [
    {
     "name": "stdout",
     "output_type": "stream",
     "text": [
      "a\n"
     ]
    }
   ],
   "source": [
    "marks =70\n",
    "if marks>=70:\n",
    "    print (\"a\")\n",
    "elif marks>=60:\n",
    "    print (\"b\")\n"
   ]
  },
  {
   "cell_type": "code",
   "execution_count": 25,
   "id": "df375559",
   "metadata": {},
   "outputs": [],
   "source": [
    "#python loop"
   ]
  },
  {
   "cell_type": "code",
   "execution_count": 26,
   "id": "71174197",
   "metadata": {},
   "outputs": [
    {
     "name": "stdout",
     "output_type": "stream",
     "text": [
      "1\n",
      "2\n",
      "3\n",
      "4\n",
      "5\n",
      "6\n",
      "7\n",
      "8\n",
      "9\n",
      "10\n",
      "11\n",
      "12\n",
      "13\n",
      "14\n",
      "15\n",
      "16\n",
      "17\n",
      "18\n",
      "19\n",
      "20\n"
     ]
    }
   ],
   "source": [
    "n=1\n",
    "while n<=20:\n",
    "    print(n)\n",
    "    n +=1"
   ]
  },
  {
   "cell_type": "code",
   "execution_count": 1,
   "id": "b0db4bde",
   "metadata": {},
   "outputs": [
    {
     "name": "stdout",
     "output_type": "stream",
     "text": [
      "1\n",
      "2\n",
      "3\n",
      "4\n",
      "5\n",
      "6\n",
      "7\n",
      "8\n",
      "9\n",
      "10\n",
      "11\n",
      "12\n",
      "13\n",
      "14\n",
      "15\n"
     ]
    }
   ],
   "source": [
    "p=1\n",
    "while p<=20:\n",
    "    print(p)\n",
    "    if p==15:\n",
    "        break\n",
    "    p +=1"
   ]
  },
  {
   "cell_type": "code",
   "execution_count": 28,
   "id": "58ff4474",
   "metadata": {},
   "outputs": [],
   "source": [
    "#borleans"
   ]
  },
  {
   "cell_type": "code",
   "execution_count": 29,
   "id": "1714ebdc",
   "metadata": {},
   "outputs": [
    {
     "name": "stdout",
     "output_type": "stream",
     "text": [
      "False\n",
      "True\n"
     ]
    }
   ],
   "source": [
    "t = True\n",
    "f = False\n",
    "print(t and f)\n",
    "print(t or f)"
   ]
  },
  {
   "cell_type": "code",
   "execution_count": 30,
   "id": "c91078d7",
   "metadata": {},
   "outputs": [
    {
     "name": "stdout",
     "output_type": "stream",
     "text": [
      "False\n",
      "True\n",
      "False\n",
      "False\n",
      "False\n"
     ]
    }
   ],
   "source": [
    "a=True\n",
    "b= False\n",
    "c= True\n",
    "d = False\n",
    "print(a and b)\n",
    "print(a and c)\n",
    "print(a and d)\n",
    "print(b and c)\n",
    "print(b and d)"
   ]
  },
  {
   "cell_type": "code",
   "execution_count": 31,
   "id": "44971e04",
   "metadata": {},
   "outputs": [
    {
     "name": "stdout",
     "output_type": "stream",
     "text": [
      "True\n",
      "True\n",
      "True\n",
      "True\n",
      "False\n"
     ]
    }
   ],
   "source": [
    "print (a or b)\n",
    "print (a or c)\n",
    "print (a or d)\n",
    "print (b or c)\n",
    "print (b or d)"
   ]
  },
  {
   "cell_type": "code",
   "execution_count": 32,
   "id": "cab14923",
   "metadata": {},
   "outputs": [],
   "source": [
    "#input parameters"
   ]
  },
  {
   "cell_type": "code",
   "execution_count": 33,
   "id": "aced9526",
   "metadata": {},
   "outputs": [
    {
     "name": "stdout",
     "output_type": "stream",
     "text": [
      "enter your namesamuel\n"
     ]
    }
   ],
   "source": [
    "Name= input('enter your name')"
   ]
  },
  {
   "cell_type": "code",
   "execution_count": 34,
   "id": "2729ffb7",
   "metadata": {
    "scrolled": true
   },
   "outputs": [
    {
     "name": "stdout",
     "output_type": "stream",
     "text": [
      "hello samuel you are welcome\n"
     ]
    }
   ],
   "source": [
    "print(\"hello\", Name, 'you are welcome')"
   ]
  },
  {
   "cell_type": "code",
   "execution_count": 35,
   "id": "16499f9f",
   "metadata": {},
   "outputs": [],
   "source": [
    "#slicing and indexing"
   ]
  },
  {
   "cell_type": "markdown",
   "id": "02967ece",
   "metadata": {},
   "source": [
    "###### indexing"
   ]
  },
  {
   "cell_type": "code",
   "execution_count": 36,
   "id": "8a163451",
   "metadata": {},
   "outputs": [],
   "source": [
    "x='hello'"
   ]
  },
  {
   "cell_type": "code",
   "execution_count": 37,
   "id": "d5234585",
   "metadata": {},
   "outputs": [
    {
     "data": {
      "text/plain": [
       "'e'"
      ]
     },
     "execution_count": 37,
     "metadata": {},
     "output_type": "execute_result"
    }
   ],
   "source": [
    "x[1]"
   ]
  },
  {
   "cell_type": "code",
   "execution_count": 38,
   "id": "4d2a72e9",
   "metadata": {},
   "outputs": [
    {
     "data": {
      "text/plain": [
       "0"
      ]
     },
     "execution_count": 38,
     "metadata": {},
     "output_type": "execute_result"
    }
   ],
   "source": [
    "x.index(\"h\")"
   ]
  },
  {
   "cell_type": "markdown",
   "id": "cd35337b",
   "metadata": {},
   "source": [
    "#### slicing"
   ]
  },
  {
   "cell_type": "code",
   "execution_count": 39,
   "id": "33273e93",
   "metadata": {},
   "outputs": [],
   "source": [
    "a=2,5,4,9,0,3,10"
   ]
  },
  {
   "cell_type": "code",
   "execution_count": 40,
   "id": "0f315410",
   "metadata": {},
   "outputs": [
    {
     "data": {
      "text/plain": [
       "(2, 5, 4, 9)"
      ]
     },
     "execution_count": 40,
     "metadata": {},
     "output_type": "execute_result"
    }
   ],
   "source": [
    "a[:4]"
   ]
  },
  {
   "cell_type": "code",
   "execution_count": 41,
   "id": "4c17e8bc",
   "metadata": {},
   "outputs": [
    {
     "data": {
      "text/plain": [
       "(2, 5, 4, 9, 0, 3, 10)"
      ]
     },
     "execution_count": 41,
     "metadata": {},
     "output_type": "execute_result"
    }
   ],
   "source": [
    "a[0:]"
   ]
  },
  {
   "cell_type": "code",
   "execution_count": 42,
   "id": "ef270648",
   "metadata": {},
   "outputs": [
    {
     "data": {
      "text/plain": [
       "(4, 9, 0, 3)"
      ]
     },
     "execution_count": 42,
     "metadata": {},
     "output_type": "execute_result"
    }
   ],
   "source": [
    "a[2:6]"
   ]
  },
  {
   "cell_type": "code",
   "execution_count": 43,
   "id": "8c6e2e2e",
   "metadata": {},
   "outputs": [],
   "source": [
    "\n",
    "divmod?"
   ]
  },
  {
   "cell_type": "code",
   "execution_count": 44,
   "id": "c2b41164",
   "metadata": {},
   "outputs": [
    {
     "data": {
      "text/plain": [
       "(6, 4)"
      ]
     },
     "execution_count": 44,
     "metadata": {},
     "output_type": "execute_result"
    }
   ],
   "source": [
    "divmod(34,5)"
   ]
  },
  {
   "cell_type": "code",
   "execution_count": 45,
   "id": "d4828b07",
   "metadata": {},
   "outputs": [
    {
     "data": {
      "text/plain": [
       "True"
      ]
     },
     "execution_count": 45,
     "metadata": {},
     "output_type": "execute_result"
    }
   ],
   "source": [
    "isinstance(1,int)"
   ]
  },
  {
   "cell_type": "code",
   "execution_count": 46,
   "id": "74b6b450",
   "metadata": {},
   "outputs": [
    {
     "data": {
      "text/plain": [
       "False"
      ]
     },
     "execution_count": 46,
     "metadata": {},
     "output_type": "execute_result"
    }
   ],
   "source": [
    "isinstance(1.6,int)"
   ]
  },
  {
   "cell_type": "code",
   "execution_count": 47,
   "id": "78b11615",
   "metadata": {},
   "outputs": [
    {
     "data": {
      "text/plain": [
       "True"
      ]
     },
     "execution_count": 47,
     "metadata": {},
     "output_type": "execute_result"
    }
   ],
   "source": [
    "isinstance(1.6,(int,float))"
   ]
  },
  {
   "cell_type": "code",
   "execution_count": 48,
   "id": "d80f3a2b",
   "metadata": {},
   "outputs": [
    {
     "data": {
      "text/plain": [
       "True"
      ]
     },
     "execution_count": 48,
     "metadata": {},
     "output_type": "execute_result"
    }
   ],
   "source": [
    "isinstance(1+5j,(int,float,complex))"
   ]
  },
  {
   "cell_type": "code",
   "execution_count": 49,
   "id": "320f7731",
   "metadata": {},
   "outputs": [
    {
     "data": {
      "text/plain": [
       "False"
      ]
     },
     "execution_count": 49,
     "metadata": {},
     "output_type": "execute_result"
    }
   ],
   "source": [
    "isinstance(1+5j,(int,float,bool,str))"
   ]
  },
  {
   "cell_type": "code",
   "execution_count": 50,
   "id": "2e63a06a",
   "metadata": {},
   "outputs": [
    {
     "data": {
      "text/plain": [
       "complex"
      ]
     },
     "execution_count": 50,
     "metadata": {},
     "output_type": "execute_result"
    }
   ],
   "source": [
    "p=6/2j\n",
    "type(p)"
   ]
  },
  {
   "cell_type": "code",
   "execution_count": 51,
   "id": "f5934803",
   "metadata": {},
   "outputs": [
    {
     "data": {
      "text/plain": [
       "16"
      ]
     },
     "execution_count": 51,
     "metadata": {},
     "output_type": "execute_result"
    }
   ],
   "source": [
    "pow(4,2)"
   ]
  },
  {
   "cell_type": "code",
   "execution_count": 52,
   "id": "a46a58f3",
   "metadata": {},
   "outputs": [
    {
     "data": {
      "text/plain": [
       "3125"
      ]
     },
     "execution_count": 52,
     "metadata": {},
     "output_type": "execute_result"
    }
   ],
   "source": [
    "d=5\n",
    "f=5\n",
    "pow(d,f)"
   ]
  },
  {
   "cell_type": "code",
   "execution_count": 53,
   "id": "aee22fa1",
   "metadata": {},
   "outputs": [
    {
     "data": {
      "text/plain": [
       "3125"
      ]
     },
     "execution_count": 53,
     "metadata": {},
     "output_type": "execute_result"
    }
   ],
   "source": [
    "5**5"
   ]
  },
  {
   "cell_type": "code",
   "execution_count": 54,
   "id": "47da353e",
   "metadata": {},
   "outputs": [
    {
     "data": {
      "text/plain": [
       "'this will give the result of 4**2%5\\n'"
      ]
     },
     "execution_count": 54,
     "metadata": {},
     "output_type": "execute_result"
    }
   ],
   "source": [
    "pow(4,2,5)\n",
    "\"\"\"this will give the result of 4**2%5\n",
    "\"\"\""
   ]
  },
  {
   "cell_type": "code",
   "execution_count": 55,
   "id": "e4ee2ab9",
   "metadata": {},
   "outputs": [
    {
     "name": "stdout",
     "output_type": "stream",
     "text": [
      "enter an intigar8\n"
     ]
    },
    {
     "data": {
      "text/plain": [
       "8"
      ]
     },
     "execution_count": 55,
     "metadata": {},
     "output_type": "execute_result"
    }
   ],
   "source": [
    "int(input(\"enter an intigar\"))"
   ]
  },
  {
   "cell_type": "code",
   "execution_count": 56,
   "id": "dc74cf11",
   "metadata": {},
   "outputs": [
    {
     "name": "stdout",
     "output_type": "stream",
     "text": [
      "67\n",
      "57\n",
      "67\n",
      "a is greater than b\n",
      "outside the if condition\n"
     ]
    }
   ],
   "source": [
    "a=int(input())\n",
    "b=int(input())\n",
    "if a>b:\n",
    "    print(a)\n",
    "    print(\"a is greater than b\")\n",
    "print(\"outside the if condition\")"
   ]
  },
  {
   "cell_type": "code",
   "execution_count": 57,
   "id": "982ab496",
   "metadata": {},
   "outputs": [
    {
     "name": "stdout",
     "output_type": "stream",
     "text": [
      " 7.9\n",
      "Odd\n"
     ]
    }
   ],
   "source": [
    "x=float(input())\n",
    "y=round(x)\n",
    "if x>0:\n",
    "    if y>x:\n",
    "        intportion=y-1\n",
    "    else:\n",
    "        intportion=y\n",
    "else:\n",
    "    if y<x:\n",
    "        intportion=y+1\n",
    "    else:\n",
    "        intportion=y\n",
    "            \n",
    "if intportion%2==0:\n",
    "            print(\"Even\")\n",
    "else:\n",
    "    print(\"Odd\")"
   ]
  },
  {
   "cell_type": "code",
   "execution_count": 2,
   "id": "03523a0a",
   "metadata": {},
   "outputs": [
    {
     "name": "stdout",
     "output_type": "stream",
     "text": [
      "7\n",
      "1\n",
      "2\n",
      "3\n",
      "4\n",
      "5\n",
      "6\n",
      "don\n"
     ]
    }
   ],
   "source": [
    "n=int(input())\n",
    "i=1\n",
    "while (i < n):\n",
    "    print(i)\n",
    "    i+=1\n",
    "print (\"don\")"
   ]
  },
  {
   "cell_type": "code",
   "execution_count": 59,
   "id": "b32d0563",
   "metadata": {},
   "outputs": [
    {
     "name": "stdout",
     "output_type": "stream",
     "text": [
      "max iteration =10\n",
      "1\n",
      "4\n",
      "9\n",
      "16\n",
      "25\n",
      "36\n",
      "49\n",
      "64\n",
      "81\n",
      "don\n"
     ]
    }
   ],
   "source": [
    "n=int(input('max iteration ='))\n",
    "i=1\n",
    "while (i < n):\n",
    "    print(i**2)\n",
    "    i+=1\n",
    "print (\"don\")"
   ]
  },
  {
   "cell_type": "code",
   "execution_count": 60,
   "id": "52b8175b",
   "metadata": {},
   "outputs": [
    {
     "name": "stdout",
     "output_type": "stream",
     "text": [
      "max iteration =8\n",
      "2\n",
      "4\n",
      "6\n"
     ]
    }
   ],
   "source": [
    "m= int(input('max iteration ='))\n",
    "j=1\n",
    "while j<m:\n",
    "    if j%2==0:\n",
    "        print(j)\n",
    "    else:\n",
    "        pass\n",
    "    j+=1"
   ]
  },
  {
   "cell_type": "code",
   "execution_count": 61,
   "id": "7816b072",
   "metadata": {},
   "outputs": [
    {
     "name": "stdout",
     "output_type": "stream",
     "text": [
      "1\n",
      "2\n",
      "3\n",
      "4\n",
      "5\n",
      "6\n",
      "7\n",
      "8\n",
      "9\n",
      "10\n",
      "[0, 1, 4, 9, 16, 25, 36, 49, 64, 81]\n"
     ]
    }
   ],
   "source": [
    "l=[]\n",
    "for i in range(10):\n",
    "    print(i+1)\n",
    "    l.append(i**2)\n",
    "print(l)"
   ]
  },
  {
   "cell_type": "code",
   "execution_count": 62,
   "id": "8190955c",
   "metadata": {},
   "outputs": [
    {
     "name": "stdout",
     "output_type": "stream",
     "text": [
      "1\n",
      "3\n",
      "5\n",
      "7\n",
      "9\n",
      "[0, 4, 16, 36, 64]\n"
     ]
    }
   ],
   "source": [
    "l=[]\n",
    "for i in range(0,10,2):\n",
    "    print(i+1)\n",
    "    l.append(i**2)\n",
    "print(l)"
   ]
  },
  {
   "cell_type": "code",
   "execution_count": 63,
   "id": "17e38b2d",
   "metadata": {},
   "outputs": [],
   "source": [
    "L=[1,2,4,-5,6,5,9,10,14,-2]\n",
    "m=L[0]\n",
    "idx=0\n",
    "c=0\n",
    "for i in L:\n",
    "    if i<m:\n",
    "        m=i\n",
    "        idx=c\n",
    "    c+=1\n",
    "tmp=L[0]\n",
    "L[0]=m\n",
    "L[idx]=tmp\n"
   ]
  },
  {
   "cell_type": "code",
   "execution_count": 64,
   "id": "0b067ed4",
   "metadata": {},
   "outputs": [
    {
     "data": {
      "text/plain": [
       "[-5, 2, 4, 1, 6, 5, 9, 10, 14, -2]"
      ]
     },
     "execution_count": 64,
     "metadata": {},
     "output_type": "execute_result"
    }
   ],
   "source": [
    "L"
   ]
  },
  {
   "cell_type": "code",
   "execution_count": 65,
   "id": "3941b570",
   "metadata": {},
   "outputs": [
    {
     "name": "stdout",
     "output_type": "stream",
     "text": [
      "[-5, -2, 1, 2, 4, 5, 6, 9, 10, 14]\n"
     ]
    }
   ],
   "source": [
    "L=[1,2,4,-5,6,5,9,10,14,-2]\n",
    "for j in range(len(L)):\n",
    "    m=L[j]\n",
    "    idx=j\n",
    "    c=j\n",
    "    for i in range(j,len(L)):\n",
    "        if L[i]<m:\n",
    "            m=L[i]\n",
    "            idx=c\n",
    "        c+=1\n",
    "    tmp=L[j]\n",
    "    L[j]=m\n",
    "    L[idx]=tmp\n",
    "print(L)"
   ]
  },
  {
   "cell_type": "code",
   "execution_count": 66,
   "id": "7318d220",
   "metadata": {},
   "outputs": [],
   "source": [
    "def msg(entry):\n",
    "    \"\"\"function prints the entry supplied by the user or alerts that the entry is not of the the expected data type\n",
    "    \"\"\"\n",
    "    if isinstance(entry,str):\n",
    "        print(entry)\n",
    "    else:\n",
    "        print(\"Your entry is not of the expected data type\")\n",
    "        print(\"Here is the  data type of what you supplied\",type(entry))"
   ]
  },
  {
   "cell_type": "code",
   "execution_count": 67,
   "id": "30b43fa7",
   "metadata": {},
   "outputs": [
    {
     "name": "stdout",
     "output_type": "stream",
     "text": [
      "Help on function msg in module __main__:\n",
      "\n",
      "msg(entry)\n",
      "    function prints the entry supplied by the user or alerts that the entry is not of the the expected data type\n",
      "\n"
     ]
    }
   ],
   "source": [
    "help(msg)"
   ]
  },
  {
   "cell_type": "code",
   "execution_count": 68,
   "id": "dd676e98",
   "metadata": {},
   "outputs": [],
   "source": [
    "msg??"
   ]
  },
  {
   "cell_type": "code",
   "execution_count": 69,
   "id": "b874f0fb",
   "metadata": {},
   "outputs": [
    {
     "name": "stdout",
     "output_type": "stream",
     "text": [
      "I am becoming better with data analysis in python every day\n"
     ]
    }
   ],
   "source": [
    "msg('I am becoming better with data analysis in python every day')"
   ]
  },
  {
   "cell_type": "code",
   "execution_count": 70,
   "id": "fbf5837c",
   "metadata": {},
   "outputs": [
    {
     "name": "stdout",
     "output_type": "stream",
     "text": [
      "Your entry is not of the expected data type\n",
      "Here is the  data type of what you supplied <class 'int'>\n"
     ]
    }
   ],
   "source": [
    "msg(12)"
   ]
  },
  {
   "cell_type": "code",
   "execution_count": 71,
   "id": "e9708233",
   "metadata": {},
   "outputs": [],
   "source": [
    "def Add(*args):\n",
    "    Total=0\n",
    "    for i in range(len(args)):\n",
    "                   Total+=args[i]\n",
    "    return Total"
   ]
  },
  {
   "cell_type": "code",
   "execution_count": 72,
   "id": "7bc84c4f",
   "metadata": {},
   "outputs": [
    {
     "name": "stdout",
     "output_type": "stream",
     "text": [
      "442\n"
     ]
    }
   ],
   "source": [
    "print(Add(8,5,323,7,25,70,3,1))"
   ]
  },
  {
   "cell_type": "code",
   "execution_count": 73,
   "id": "613b2e43",
   "metadata": {},
   "outputs": [],
   "source": [
    "def printvariablesnamesandvalues(**args):\n",
    "    for x in args:\n",
    "        print(\"variables names is :\", x,\"and its value is:\",args[x])"
   ]
  },
  {
   "cell_type": "code",
   "execution_count": 74,
   "id": "b195028b",
   "metadata": {},
   "outputs": [
    {
     "name": "stdout",
     "output_type": "stream",
     "text": [
      "variables names is : a and its value is: 3\n",
      "variables names is : b and its value is: B\n",
      "variables names is : C and its value is: T\n",
      "variables names is : D and its value is: 7\n"
     ]
    }
   ],
   "source": [
    "printvariablesnamesandvalues(a=3,b='B', C='T',D = 7)"
   ]
  },
  {
   "cell_type": "code",
   "execution_count": 1,
   "id": "532f33a1",
   "metadata": {},
   "outputs": [],
   "source": [
    "def h(s=6):\n",
    "    print(s)"
   ]
  },
  {
   "cell_type": "code",
   "execution_count": 2,
   "id": "cef59617",
   "metadata": {},
   "outputs": [
    {
     "name": "stdout",
     "output_type": "stream",
     "text": [
      "5\n"
     ]
    }
   ],
   "source": [
    "h(5)"
   ]
  },
  {
   "cell_type": "code",
   "execution_count": 76,
   "id": "6df35204",
   "metadata": {},
   "outputs": [
    {
     "name": "stdout",
     "output_type": "stream",
     "text": [
      "45\n"
     ]
    }
   ],
   "source": [
    "h(45)"
   ]
  },
  {
   "cell_type": "code",
   "execution_count": 77,
   "id": "06f600d6",
   "metadata": {},
   "outputs": [],
   "source": [
    "import sys\n",
    "sys.path.append('C:/functions/')"
   ]
  },
  {
   "cell_type": "code",
   "execution_count": 78,
   "id": "d0339f97",
   "metadata": {},
   "outputs": [
    {
     "ename": "SyntaxError",
     "evalue": "invalid syntax (my_function_collection.py, line 10)",
     "output_type": "error",
     "traceback": [
      "Traceback \u001b[1;36m(most recent call last)\u001b[0m:\n",
      "  File \u001b[0;32m~\\anaconda3\\lib\\site-packages\\IPython\\core\\interactiveshell.py:3369\u001b[0m in \u001b[0;35mrun_code\u001b[0m\n    exec(code_obj, self.user_global_ns, self.user_ns)\n",
      "\u001b[1;36m  Input \u001b[1;32mIn [78]\u001b[1;36m in \u001b[1;35m<cell line: 1>\u001b[1;36m\u001b[0m\n\u001b[1;33m    import my_function_collection as mfc\u001b[0m\n",
      "\u001b[1;36m  File \u001b[1;32mC:\\functions\\my_function_collection.py:10\u001b[1;36m\u001b[0m\n\u001b[1;33m    ifnot(isinstance(x(int,float))):\u001b[0m\n\u001b[1;37m                                    ^\u001b[0m\n\u001b[1;31mSyntaxError\u001b[0m\u001b[1;31m:\u001b[0m invalid syntax\n"
     ]
    }
   ],
   "source": [
    "import my_function_collection as mfc "
   ]
  },
  {
   "cell_type": "code",
   "execution_count": 3,
   "id": "b066e837",
   "metadata": {
    "scrolled": true
   },
   "outputs": [
    {
     "name": "stdout",
     "output_type": "stream",
     "text": [
      "i'm learning \"string\" at the moment\n"
     ]
    }
   ],
   "source": [
    "print(\"i'm learning \\\"string\\\" at the moment\")"
   ]
  },
  {
   "cell_type": "code",
   "execution_count": 4,
   "id": "3548c4ac",
   "metadata": {},
   "outputs": [
    {
     "name": "stdout",
     "output_type": "stream",
     "text": [
      "we are learning 'data science' with jupyter notebook\n"
     ]
    }
   ],
   "source": [
    "print(\"we are learning 'data science' with jupyter notebook\")"
   ]
  },
  {
   "cell_type": "code",
   "execution_count": 6,
   "id": "001b4c23",
   "metadata": {},
   "outputs": [
    {
     "name": "stdout",
     "output_type": "stream",
     "text": [
      "i'm still learning. \n",
      " Are you too?\n"
     ]
    }
   ],
   "source": [
    "print(\"i'm still learning. \\n Are you too?\")"
   ]
  },
  {
   "cell_type": "code",
   "execution_count": 6,
   "id": "5c7a539f",
   "metadata": {},
   "outputs": [],
   "source": [
    "\"\"\"you want to enter all your students records in a computer and compute the\n",
    "avrage marks of each student\"\"\"\n",
    "def getDataFromUser():\n",
    "    D={}\n",
    "    while True:\n",
    "        studentId = input(\"input student ID: \")\n",
    "        marksList = input(\"input the marks by CSV: \")\n",
    "        moreStudents = input(\"input yes/no for adding students: \")\n",
    "        if studentId in D:\n",
    "            print(studentId, \"is already entered\")\n",
    "        else:\n",
    "            D[studentId] = marksList.split(\",\")\n",
    "            if moreStudent.lower()==\"no\":\n",
    "                return D\n",
    "            "
   ]
  },
  {
   "cell_type": "code",
   "execution_count": 79,
   "id": "725287d9",
   "metadata": {},
   "outputs": [],
   "source": [
    "from scipy import stats"
   ]
  },
  {
   "cell_type": "code",
   "execution_count": 80,
   "id": "1e988003",
   "metadata": {},
   "outputs": [
    {
     "data": {
      "text/plain": [
       "ModeResult(mode=array([12]), count=array([4]))"
      ]
     },
     "execution_count": 80,
     "metadata": {},
     "output_type": "execute_result"
    }
   ],
   "source": [
    "speed = [25,43,46,77,33,54,22,12,22,34,12,55,54,12,12,23,77]\n",
    "stats.mode(speed)"
   ]
  },
  {
   "cell_type": "code",
   "execution_count": 81,
   "id": "94c3591e",
   "metadata": {},
   "outputs": [
    {
     "data": {
      "text/plain": [
       "36.05882352941177"
      ]
     },
     "execution_count": 81,
     "metadata": {},
     "output_type": "execute_result"
    }
   ],
   "source": [
    "import numpy as np\n",
    "np.mean(speed)"
   ]
  },
  {
   "cell_type": "code",
   "execution_count": 82,
   "id": "41b9d31e",
   "metadata": {},
   "outputs": [
    {
     "data": {
      "text/plain": [
       "33.0"
      ]
     },
     "execution_count": 82,
     "metadata": {},
     "output_type": "execute_result"
    }
   ],
   "source": [
    "np.median(speed)"
   ]
  },
  {
   "cell_type": "code",
   "execution_count": 83,
   "id": "89af583c",
   "metadata": {},
   "outputs": [
    {
     "data": {
      "text/plain": [
       "21.030707487848485"
      ]
     },
     "execution_count": 83,
     "metadata": {},
     "output_type": "execute_result"
    }
   ],
   "source": [
    "np.std(speed)"
   ]
  },
  {
   "cell_type": "code",
   "execution_count": 84,
   "id": "671660da",
   "metadata": {},
   "outputs": [
    {
     "data": {
      "text/plain": [
       "442.29065743944636"
      ]
     },
     "execution_count": 84,
     "metadata": {},
     "output_type": "execute_result"
    }
   ],
   "source": [
    "np.var(speed)"
   ]
  },
  {
   "cell_type": "code",
   "execution_count": 85,
   "id": "e25b8fd7",
   "metadata": {},
   "outputs": [
    {
     "name": "stdout",
     "output_type": "stream",
     "text": [
      "39.4\n"
     ]
    }
   ],
   "source": [
    "percentile=np.percentile(speed,60)\n",
    "print(percentile) #gives a number that desscribes the value that a given percent of the values are lower than"
   ]
  },
  {
   "cell_type": "code",
   "execution_count": 86,
   "id": "6683d9a0",
   "metadata": {},
   "outputs": [
    {
     "name": "stdout",
     "output_type": "stream",
     "text": [
      "[1.25458956e+00 4.57825133e+00 6.66911491e-01 4.92215007e+00\n",
      " 4.32094724e+00 3.74743359e+00 3.96208263e+00 6.67737086e-03\n",
      " 3.27386254e+00 4.86938807e+00 1.13179635e+00 4.05923733e+00\n",
      " 3.75855022e+00 2.57695959e+00 1.12151321e+00 7.22452743e-01\n",
      " 3.43514130e+00 4.37104645e+00 4.08732015e-01 4.09617831e+00\n",
      " 3.51146491e+00 3.17264590e+00 1.90597023e+00 2.94810808e+00\n",
      " 2.98856309e+00 4.95922668e+00 4.16660148e+00 4.86311956e+00\n",
      " 3.63218538e+00 5.70748787e-01 1.42537530e+00 2.62560866e-01\n",
      " 3.72682715e+00 2.18674734e+00 4.72257914e-01 6.11867526e-01\n",
      " 3.03721964e+00 1.39737482e+00 4.78688539e+00 3.37218789e+00\n",
      " 1.36782298e+00 2.07964481e+00 2.67187363e+00 2.89449720e-01\n",
      " 3.35717515e+00 1.59705393e+00 1.34448029e+00 3.81767489e+00\n",
      " 2.56084508e+00 2.80678975e+00 2.51289574e+00 3.22257322e+00\n",
      " 2.79222563e-01 4.76594314e+00 4.92505178e+00 4.91996315e+00\n",
      " 3.87857273e+00 2.28765616e+00 2.09428705e+00 2.85739661e+00\n",
      " 3.30758407e+00 4.61917891e+00 2.74834439e+00 2.91382884e+00\n",
      " 4.49435273e+00 3.99079816e+00 2.30251076e-02 1.51982693e+00\n",
      " 3.23309093e+00 1.54565451e+00 1.09331176e+00 2.95036393e+00\n",
      " 2.09374599e+00 4.13813326e+00 4.11253939e+00 5.11268151e-01\n",
      " 2.16724348e+00 1.08058011e+00 3.45004702e-01 2.18930035e+00\n",
      " 7.57291334e-01 1.62988567e+00 3.11217192e+00 3.23709754e+00\n",
      " 4.63495844e-01 3.81689567e+00 1.15792017e+00 2.06912399e-01\n",
      " 1.62558117e+00 3.53622487e+00 4.45454596e+00 4.14142491e+00\n",
      " 2.44566308e+00 1.76313681e+00 2.42019970e+00 1.98026178e+00\n",
      " 9.65276864e-01 1.88805955e+00 3.07098563e+00 4.21312362e+00\n",
      " 4.59029026e-01 4.92900534e-01 1.11285451e-01 1.46915970e+00\n",
      " 1.37536554e+00 2.19655420e+00 2.22673961e-01 1.31155964e+00\n",
      " 6.46234121e-01 4.53512426e+00 4.94120196e+00 2.43741758e+00\n",
      " 1.13892352e+00 3.02154034e+00 1.48618043e+00 4.91869943e+00\n",
      " 1.85355053e+00 3.00500384e+00 4.43720177e+00 2.83821259e+00\n",
      " 6.76267498e-01 3.45838700e-03 3.97419756e-01 2.09849734e+00\n",
      " 1.96378939e+00 6.49584650e-01 9.08739373e-01 8.30129249e-01\n",
      " 3.74096301e+00 4.27542828e+00 3.29427147e+00 3.66880571e+00\n",
      " 2.48058200e-03 6.00615279e-01 1.14288751e+00 3.86748141e+00\n",
      " 1.86108450e+00 2.49807961e-01 1.72537610e+00 6.26363630e-01\n",
      " 4.71699932e+00 4.41687582e+00 6.30229624e-01 8.88268358e-01\n",
      " 4.73007338e+00 4.29607849e+00 4.54857178e+00 2.78789007e+00\n",
      " 5.31583023e-01 2.70916572e+00 3.34901088e+00 4.63346687e+00\n",
      " 2.47830476e+00 8.94178674e-01 4.81442035e-01 8.23176966e-04\n",
      " 3.67724107e+00 3.23618331e+00 2.86066808e+00 2.95916635e-01\n",
      " 2.36024292e+00 4.35244326e+00 4.68714465e+00 6.00535035e-01\n",
      " 4.75399289e+00 2.50577592e-01 1.48191720e-01 2.70823749e+00\n",
      " 1.86848600e+00 4.70265973e+00 3.52203788e+00 2.58382269e+00\n",
      " 4.65517005e+00 1.72775946e+00 4.66234708e+00 5.94946022e-02\n",
      " 2.90436930e+00 2.45465072e+00 4.39206610e+00 3.38493317e+00\n",
      " 7.82796485e-01 3.47365558e+00 1.67234972e+00 3.56307885e+00\n",
      " 1.95697263e+00 4.83955882e+00 1.74436813e+00 1.46308376e+00\n",
      " 4.16088368e+00 4.57843288e+00 1.87348425e+00 3.55586801e+00\n",
      " 1.42295964e+00 3.24527056e+00 8.84264913e-01 4.35377029e+00\n",
      " 1.74227310e+00 4.34896301e-01 4.70646697e+00 1.31607292e+00\n",
      " 2.16756922e+00 4.76600388e+00 2.99555147e+00 3.49219243e+00\n",
      " 1.68727746e+00 4.47759599e+00 2.21543594e+00 1.60557126e+00\n",
      " 2.01727123e+00 4.01272001e-02 2.66184838e-01 4.61088113e+00\n",
      " 1.97369511e-01 8.06763977e-01 4.76202316e+00 4.73076790e+00\n",
      " 1.79552078e+00 2.95039735e+00 1.55520395e+00 4.64566335e+00\n",
      " 2.98838496e-01 3.66619330e+00 2.34519675e+00 8.59553131e-01\n",
      " 2.48775865e+00 1.08161505e+00 2.18859180e-01 3.46950172e+00\n",
      " 3.32884498e+00 3.18646241e+00 4.11439541e+00 2.93425426e+00\n",
      " 3.68839869e-01 4.07026959e-01 3.82748669e+00 1.22212540e+00\n",
      " 9.92325628e-01 4.44634099e+00 4.73970167e-01 2.02486407e+00\n",
      " 8.56258037e-01 3.71415012e+00 1.94455299e+00 2.32730737e+00\n",
      " 1.03954437e+00 2.67311190e+00 4.87990748e-01 2.66706307e+00\n",
      " 8.65771095e-01 6.47885355e-01]\n"
     ]
    }
   ],
   "source": [
    "unidata=np.random.uniform(0.0,5.0,250)\n",
    "print(unidata)"
   ]
  },
  {
   "cell_type": "code",
   "execution_count": 87,
   "id": "240a62ec",
   "metadata": {},
   "outputs": [],
   "source": [
    "from matplotlib import pyplot as plt"
   ]
  },
  {
   "cell_type": "code",
   "execution_count": 88,
   "id": "c4e63256",
   "metadata": {},
   "outputs": [
    {
     "data": {
      "image/png": "[encoded data removed]",
      "text/plain": [
       "<Figure size 432x288 with 1 Axes>"
      ]
     },
     "metadata": {
      "needs_background": "light"
     },
     "output_type": "display_data"
    }
   ],
   "source": [
    "plt.hist(unidata,5)\n",
    "plt.show()"
   ]
  },
  {
   "cell_type": "code",
   "execution_count": 89,
   "id": "ec42f9c5",
   "metadata": {},
   "outputs": [
    {
     "data": {
      "text/plain": [
       "(array([3.000e+00, 1.000e+00, 5.000e+00, 7.000e+00, 0.000e+00, 9.000e+00,\n",
       "        1.200e+01, 8.000e+00, 5.000e+00, 2.000e+01, 2.500e+01, 3.300e+01,\n",
       "        3.900e+01, 5.500e+01, 7.200e+01, 8.700e+01, 1.150e+02, 1.370e+02,\n",
       "        1.690e+02, 2.090e+02, 2.790e+02, 3.100e+02, 3.590e+02, 4.560e+02,\n",
       "        5.530e+02, 6.820e+02, 7.220e+02, 9.050e+02, 9.860e+02, 1.132e+03,\n",
       "        1.332e+03, 1.422e+03, 1.668e+03, 1.765e+03, 1.952e+03, 2.079e+03,\n",
       "        2.274e+03, 2.482e+03, 2.644e+03, 2.817e+03, 2.961e+03, 3.019e+03,\n",
       "        3.205e+03, 3.181e+03, 3.252e+03, 3.451e+03, 3.492e+03, 3.432e+03,\n",
       "        3.281e+03, 3.481e+03, 3.231e+03, 3.224e+03, 3.041e+03, 2.921e+03,\n",
       "        2.686e+03, 2.706e+03, 2.478e+03, 2.393e+03, 2.110e+03, 1.905e+03,\n",
       "        1.785e+03, 1.595e+03, 1.364e+03, 1.207e+03, 1.091e+03, 9.010e+02,\n",
       "        7.570e+02, 6.710e+02, 6.150e+02, 5.130e+02, 4.420e+02, 3.380e+02,\n",
       "        2.870e+02, 2.600e+02, 2.030e+02, 1.440e+02, 1.090e+02, 9.400e+01,\n",
       "        8.200e+01, 6.500e+01, 4.200e+01, 3.200e+01, 3.400e+01, 2.300e+01,\n",
       "        2.000e+01, 1.300e+01, 1.000e+01, 7.000e+00, 6.000e+00, 1.000e+00,\n",
       "        3.000e+00, 2.000e+00, 1.000e+00, 2.000e+00, 0.000e+00, 0.000e+00,\n",
       "        0.000e+00, 0.000e+00, 0.000e+00, 1.000e+00]),\n",
       " array([0.96488227, 1.05109834, 1.13731442, 1.2235305 , 1.30974658,\n",
       "        1.39596265, 1.48217873, 1.56839481, 1.65461089, 1.74082696,\n",
       "        1.82704304, 1.91325912, 1.99947519, 2.08569127, 2.17190735,\n",
       "        2.25812343, 2.3443395 , 2.43055558, 2.51677166, 2.60298774,\n",
       "        2.68920381, 2.77541989, 2.86163597, 2.94785205, 3.03406812,\n",
       "        3.1202842 , 3.20650028, 3.29271636, 3.37893243, 3.46514851,\n",
       "        3.55136459, 3.63758067, 3.72379674, 3.81001282, 3.8962289 ,\n",
       "        3.98244498, 4.06866105, 4.15487713, 4.24109321, 4.32730928,\n",
       "        4.41352536, 4.49974144, 4.58595752, 4.67217359, 4.75838967,\n",
       "        4.84460575, 4.93082183, 5.0170379 , 5.10325398, 5.18947006,\n",
       "        5.27568614, 5.36190221, 5.44811829, 5.53433437, 5.62055045,\n",
       "        5.70676652, 5.7929826 , 5.87919868, 5.96541476, 6.05163083,\n",
       "        6.13784691, 6.22406299, 6.31027907, 6.39649514, 6.48271122,\n",
       "        6.5689273 , 6.65514337, 6.74135945, 6.82757553, 6.91379161,\n",
       "        7.00000768, 7.08622376, 7.17243984, 7.25865592, 7.34487199,\n",
       "        7.43108807, 7.51730415, 7.60352023, 7.6897363 , 7.77595238,\n",
       "        7.86216846, 7.94838454, 8.03460061, 8.12081669, 8.20703277,\n",
       "        8.29324885, 8.37946492, 8.465681  , 8.55189708, 8.63811315,\n",
       "        8.72432923, 8.81054531, 8.89676139, 8.98297746, 9.06919354,\n",
       "        9.15540962, 9.2416257 , 9.32784177, 9.41405785, 9.50027393,\n",
       "        9.58649001]),\n",
       " <BarContainer object of 100 artists>)"
      ]
     },
     "execution_count": 89,
     "metadata": {},
     "output_type": "execute_result"
    },
    {
     "data": {
      "image/png": "[encoded data removed]",
      "text/plain": [
       "<Figure size 432x288 with 1 Axes>"
      ]
     },
     "metadata": {
      "needs_background": "light"
     },
     "output_type": "display_data"
    }
   ],
   "source": [
    "normaldata= np.random.normal(5.0,1.0,100000)\n",
    "plt.hist(normaldata,100)"
   ]
  },
  {
   "cell_type": "code",
   "execution_count": 90,
   "id": "6da85af6",
   "metadata": {},
   "outputs": [
    {
     "data": {
      "image/png": "[encoded data removed]",
      "text/plain": [
       "<Figure size 432x288 with 1 Axes>"
      ]
     },
     "metadata": {
      "needs_background": "light"
     },
     "output_type": "display_data"
    }
   ],
   "source": [
    "x=np.random.normal(5.0,1.0,1000)\n",
    "y=np.random.normal(10.0,2.0,1000)\n",
    "plt.scatter(x,y)\n",
    "plt.show()"
   ]
  },
  {
   "cell_type": "code",
   "execution_count": 92,
   "id": "70aa9ef8",
   "metadata": {},
   "outputs": [
    {
     "data": {
      "image/png": "[encoded data removed]",
      "text/plain": [
       "<Figure size 432x288 with 1 Axes>"
      ]
     },
     "metadata": {
      "needs_background": "light"
     },
     "output_type": "display_data"
    }
   ],
   "source": [
    "age = [5,6,7,9,10,12,8,14,2,1,1,3]\n",
    "speed2 = [78,60,56,47,45,40,48,34,90,92,95,80]\n",
    "plt.scatter(age,speed2)\n",
    "plt.show()"
   ]
  },
  {
   "cell_type": "code",
   "execution_count": 99,
   "id": "42283868",
   "metadata": {},
   "outputs": [
    {
     "data": {
      "image/png": "[encoded data removed]",
      "text/plain": [
       "<Figure size 432x288 with 1 Axes>"
      ]
     },
     "metadata": {
      "needs_background": "light"
     },
     "output_type": "display_data"
    },
    {
     "name": "stdout",
     "output_type": "stream",
     "text": [
      "-0.9710724117439828\n",
      "41.34975369458128\n",
      "-0.97 indicates a weak relationship but we can use the relationship to predict future values\n"
     ]
    }
   ],
   "source": [
    "age = [5,6,7,9,10,12,8,14,2,1,1,3]\n",
    "speed2 = [78,60,56,47,45,40,48,34,90,92,95,80]\n",
    "\n",
    "slope,intercept,r,p,std_err=stats.linregress(age,speed2)\n",
    "def myfunction(age):\n",
    "    return slope * age + intercept\n",
    "\n",
    "myModel= list(map(myfunction,age))\n",
    "\n",
    "plt.scatter(age,speed2)\n",
    "plt.plot(age,myModel)\n",
    "plt.show()\n",
    "\n",
    "print(r) # (r-squared)used to measure the relationship between the x and y variables. it ranges from 0 to 1, 0 = no relationship, 1=100% related\n",
    "predict=myfunction(11) #used to predict future values\n",
    "print(predict)\n",
    "print('-0.97 indicates a weak relationship but we can use the relationship to predict future values')"
   ]
  },
  {
   "cell_type": "code",
   "execution_count": 117,
   "id": "534668ff",
   "metadata": {},
   "outputs": [
    {
     "data": {
      "image/png": "[encoded data removed]",
      "text/plain": [
       "<Figure size 432x288 with 1 Axes>"
      ]
     },
     "metadata": {
      "needs_background": "light"
     },
     "output_type": "display_data"
    },
    {
     "name": "stdout",
     "output_type": "stream",
     "text": [
      "the polynomial regression of x and y\n",
      "0.7616686874610494\n",
      "there is a strong relationship between x and y\n",
      "36.503724065704255\n"
     ]
    }
   ],
   "source": [
    "x=[1,2,3,5,6,7,9,10,11,12,14,15,16,18,19,21,22]\n",
    "y=[100,90,90,80,70,60,60,50,40,30,30,30,30,20,10, 10,100]\n",
    "\n",
    "myModel=np.poly1d(np.polyfit(x,y,3))\n",
    "\n",
    "myline=np.linspace(1,22,100)\n",
    "\n",
    "plt.scatter(x,y)\n",
    "\n",
    "plt.plot(myline,myModel(myline))\n",
    "\n",
    "plt.show()\n",
    "\n",
    "print('the polynomial regression of x and y')\n",
    "\n",
    "from sklearn.metrics import r2_score #sklearn.metrics is the modle used to calculate the  R-square value for polynomial regression\n",
    "\n",
    "print(r2_score(y,myModel(x)))\n",
    "\n",
    "print('there is a strong relationship between x and y')\n",
    "speedpredict=myModel(20)\n",
    "print(speedpredict)"
   ]
  },
  {
   "cell_type": "code",
   "execution_count": null,
   "id": "ae0b9bf2",
   "metadata": {},
   "outputs": [],
   "source": []
  }
 ],
 "metadata": {
  "kernelspec": {
   "display_name": "Python 3 (ipykernel)",
   "language": "python",
   "name": "python3"
  },
  "language_info": {
   "codemirror_mode": {
    "name": "ipython",
    "version": 3
   },
   "file_extension": ".py",
   "mimetype": "text/x-python",
   "name": "python",
   "nbconvert_exporter": "python",
   "pygments_lexer": "ipython3",
   "version": "3.9.12"
  }
 },
 "nbformat": 4,
 "nbformat_minor": 5
}
